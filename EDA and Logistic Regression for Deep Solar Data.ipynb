{
 "cells": [
  {
   "cell_type": "code",
   "execution_count": 46,
   "metadata": {},
   "outputs": [],
   "source": [
    "import numpy as np\n",
    "import seaborn as sns\n",
    "import matplotlib.pyplot as plt\n",
    "from matplotlib import cm\n",
    "from matplotlib import colors\n",
    "import pandas as pd\n",
    "# import scipy as needed"
   ]
  },
  {
   "cell_type": "code",
   "execution_count": 47,
   "metadata": {},
   "outputs": [],
   "source": [
    "#Import Sun Roof and Election data\n",
    "\n",
    "solar_raw = pd.read_csv(\"./deepsolar_tract.csv\", encoding = \"ISO-8859-1\")\n",
    "county_elec_raw = pd.read_csv(\"./county_2018_elections.csv\", encoding = \"ISO-8859-1\")"
   ]
  },
  {
   "cell_type": "code",
   "execution_count": 79,
   "metadata": {
    "scrolled": true
   },
   "outputs": [
    {
     "data": {
      "text/html": [
       "<div>\n",
       "<style scoped>\n",
       "    .dataframe tbody tr th:only-of-type {\n",
       "        vertical-align: middle;\n",
       "    }\n",
       "\n",
       "    .dataframe tbody tr th {\n",
       "        vertical-align: top;\n",
       "    }\n",
       "\n",
       "    .dataframe thead th {\n",
       "        text-align: right;\n",
       "    }\n",
       "</style>\n",
       "<table border=\"1\" class=\"dataframe\">\n",
       "  <thead>\n",
       "    <tr style=\"text-align: right;\">\n",
       "      <th></th>\n",
       "      <th>county</th>\n",
       "      <th>state</th>\n",
       "      <th>tile_count</th>\n",
       "      <th>solar_system_count</th>\n",
       "      <th>total_panel_area</th>\n",
       "      <th>land_area</th>\n",
       "      <th>total_area</th>\n",
       "      <th>population</th>\n",
       "      <th>population_density</th>\n",
       "      <th>race_asian_rate</th>\n",
       "      <th>...</th>\n",
       "      <th>race_islander_rate</th>\n",
       "      <th>race_white_rate</th>\n",
       "      <th>race_other_rate</th>\n",
       "      <th>race_two_more_rate</th>\n",
       "      <th>diversity</th>\n",
       "      <th>voting_2016_dem_percentage</th>\n",
       "      <th>voting_2016_gop_percentage</th>\n",
       "      <th>voting_2012_dem_percentage</th>\n",
       "      <th>voting_2012_gop_percentage</th>\n",
       "      <th>ratio_panels_to_housing_units</th>\n",
       "    </tr>\n",
       "  </thead>\n",
       "  <tbody>\n",
       "    <tr>\n",
       "      <th>107</th>\n",
       "      <td>Autauga County</td>\n",
       "      <td>al</td>\n",
       "      <td>28.0</td>\n",
       "      <td>23.0</td>\n",
       "      <td>2567.542490</td>\n",
       "      <td>594.436015</td>\n",
       "      <td>604.388097</td>\n",
       "      <td>55221</td>\n",
       "      <td>810.895779</td>\n",
       "      <td>0.007066</td>\n",
       "      <td>...</td>\n",
       "      <td>0.00063</td>\n",
       "      <td>0.749282</td>\n",
       "      <td>0.010090</td>\n",
       "      <td>0.017455</td>\n",
       "      <td>0.342924</td>\n",
       "      <td>0.239569</td>\n",
       "      <td>0.734358</td>\n",
       "      <td>0.266</td>\n",
       "      <td>0.726</td>\n",
       "      <td>0.001240</td>\n",
       "    </tr>\n",
       "    <tr>\n",
       "      <th>116</th>\n",
       "      <td>Baldwin County</td>\n",
       "      <td>al</td>\n",
       "      <td>254.0</td>\n",
       "      <td>201.0</td>\n",
       "      <td>18351.453746</td>\n",
       "      <td>1589.783989</td>\n",
       "      <td>2027.311190</td>\n",
       "      <td>195121</td>\n",
       "      <td>430.466918</td>\n",
       "      <td>0.006676</td>\n",
       "      <td>...</td>\n",
       "      <td>0.00000</td>\n",
       "      <td>0.864741</td>\n",
       "      <td>0.008176</td>\n",
       "      <td>0.016964</td>\n",
       "      <td>0.213399</td>\n",
       "      <td>0.195653</td>\n",
       "      <td>0.773515</td>\n",
       "      <td>0.216</td>\n",
       "      <td>0.774</td>\n",
       "      <td>0.002387</td>\n",
       "    </tr>\n",
       "    <tr>\n",
       "      <th>128</th>\n",
       "      <td>Barbour County</td>\n",
       "      <td>al</td>\n",
       "      <td>8.0</td>\n",
       "      <td>6.0</td>\n",
       "      <td>1010.677426</td>\n",
       "      <td>884.876361</td>\n",
       "      <td>904.515217</td>\n",
       "      <td>26932</td>\n",
       "      <td>133.333457</td>\n",
       "      <td>0.006923</td>\n",
       "      <td>...</td>\n",
       "      <td>0.00000</td>\n",
       "      <td>0.479236</td>\n",
       "      <td>0.035038</td>\n",
       "      <td>0.011599</td>\n",
       "      <td>0.527576</td>\n",
       "      <td>0.466603</td>\n",
       "      <td>0.522714</td>\n",
       "      <td>0.513</td>\n",
       "      <td>0.483</td>\n",
       "      <td>0.000677</td>\n",
       "    </tr>\n",
       "    <tr>\n",
       "      <th>197</th>\n",
       "      <td>Bibb County</td>\n",
       "      <td>al</td>\n",
       "      <td>2.0</td>\n",
       "      <td>1.0</td>\n",
       "      <td>225.353902</td>\n",
       "      <td>622.582300</td>\n",
       "      <td>626.168790</td>\n",
       "      <td>22604</td>\n",
       "      <td>46.520710</td>\n",
       "      <td>0.001427</td>\n",
       "      <td>...</td>\n",
       "      <td>0.00000</td>\n",
       "      <td>0.799359</td>\n",
       "      <td>0.000209</td>\n",
       "      <td>0.017350</td>\n",
       "      <td>0.285977</td>\n",
       "      <td>0.214220</td>\n",
       "      <td>0.769662</td>\n",
       "      <td>0.262</td>\n",
       "      <td>0.731</td>\n",
       "      <td>0.000223</td>\n",
       "    </tr>\n",
       "    <tr>\n",
       "      <th>217</th>\n",
       "      <td>Blount County</td>\n",
       "      <td>al</td>\n",
       "      <td>18.0</td>\n",
       "      <td>6.0</td>\n",
       "      <td>960.822726</td>\n",
       "      <td>644.775890</td>\n",
       "      <td>650.628210</td>\n",
       "      <td>57710</td>\n",
       "      <td>93.144891</td>\n",
       "      <td>0.001153</td>\n",
       "      <td>...</td>\n",
       "      <td>0.00000</td>\n",
       "      <td>0.952655</td>\n",
       "      <td>0.010608</td>\n",
       "      <td>0.016832</td>\n",
       "      <td>0.090340</td>\n",
       "      <td>0.084699</td>\n",
       "      <td>0.898519</td>\n",
       "      <td>0.123</td>\n",
       "      <td>0.865</td>\n",
       "      <td>0.000754</td>\n",
       "    </tr>\n",
       "  </tbody>\n",
       "</table>\n",
       "<p>5 rows × 22 columns</p>\n",
       "</div>"
      ],
      "text/plain": [
       "             county state  tile_count  solar_system_count  total_panel_area  \\\n",
       "107  Autauga County    al        28.0                23.0       2567.542490   \n",
       "116  Baldwin County    al       254.0               201.0      18351.453746   \n",
       "128  Barbour County    al         8.0                 6.0       1010.677426   \n",
       "197     Bibb County    al         2.0                 1.0        225.353902   \n",
       "217   Blount County    al        18.0                 6.0        960.822726   \n",
       "\n",
       "       land_area   total_area  population  population_density  \\\n",
       "107   594.436015   604.388097       55221          810.895779   \n",
       "116  1589.783989  2027.311190      195121          430.466918   \n",
       "128   884.876361   904.515217       26932          133.333457   \n",
       "197   622.582300   626.168790       22604           46.520710   \n",
       "217   644.775890   650.628210       57710           93.144891   \n",
       "\n",
       "     race_asian_rate  ...  race_islander_rate  race_white_rate  \\\n",
       "107         0.007066  ...             0.00063         0.749282   \n",
       "116         0.006676  ...             0.00000         0.864741   \n",
       "128         0.006923  ...             0.00000         0.479236   \n",
       "197         0.001427  ...             0.00000         0.799359   \n",
       "217         0.001153  ...             0.00000         0.952655   \n",
       "\n",
       "     race_other_rate  race_two_more_rate  diversity  \\\n",
       "107         0.010090            0.017455   0.342924   \n",
       "116         0.008176            0.016964   0.213399   \n",
       "128         0.035038            0.011599   0.527576   \n",
       "197         0.000209            0.017350   0.285977   \n",
       "217         0.010608            0.016832   0.090340   \n",
       "\n",
       "     voting_2016_dem_percentage  voting_2016_gop_percentage  \\\n",
       "107                    0.239569                    0.734358   \n",
       "116                    0.195653                    0.773515   \n",
       "128                    0.466603                    0.522714   \n",
       "197                    0.214220                    0.769662   \n",
       "217                    0.084699                    0.898519   \n",
       "\n",
       "     voting_2012_dem_percentage  voting_2012_gop_percentage  \\\n",
       "107                       0.266                       0.726   \n",
       "116                       0.216                       0.774   \n",
       "128                       0.513                       0.483   \n",
       "197                       0.262                       0.731   \n",
       "217                       0.123                       0.865   \n",
       "\n",
       "     ratio_panels_to_housing_units  \n",
       "107                       0.001240  \n",
       "116                       0.002387  \n",
       "128                       0.000677  \n",
       "197                       0.000223  \n",
       "217                       0.000754  \n",
       "\n",
       "[5 rows x 22 columns]"
      ]
     },
     "execution_count": 79,
     "metadata": {},
     "output_type": "execute_result"
    }
   ],
   "source": [
    "solar_grouped_temp = solar_raw.groupby(['county', 'state'], as_index=False)\n",
    "solar_grouped_sumed = solar_grouped_temp.sum().sort_values(['county', 'state'])\n",
    "solar_grouped_avged = solar_grouped_temp.mean().sort_values(['county', 'state'])\n",
    "ratio_panels_to_housing_units = solar_grouped_sumed['tile_count'] / solar_grouped_sumed['housing_unit_count']\n",
    "solar_grouped_sums = solar_grouped_sumed[['county', 'state', 'tile_count', 'solar_system_count', 'total_panel_area', 'land_area', 'total_area', 'population']].sort_values(['county', 'state'])\n",
    "solar_grouped_avgs = solar_grouped_avged[['county', 'state', 'population_density', 'race_asian_rate', 'race_black_africa_rate', 'race_indian_alaska_rate', 'race_islander_rate', 'race_white_rate', 'race_other_rate', 'race_two_more_rate', 'diversity','voting_2016_dem_percentage', 'voting_2016_gop_percentage', 'voting_2012_dem_percentage', 'voting_2012_gop_percentage']].sort_values(['county', 'state'])\n",
    "\n",
    "solar_grouped_all = pd.merge(solar_grouped_sums, solar_grouped_avgs, on=['county', 'state']).sort_values(['county', 'state'])\n",
    "solar_grouped_all['ratio_panels_to_housing_units'] = ratio_panels_to_housing_units\n",
    "solar_grouped_all = solar_grouped_all.sort_values(['state', 'county'])\n",
    "\n",
    "solar_grouped_all.head()"
   ]
  },
  {
   "cell_type": "code",
   "execution_count": 105,
   "metadata": {},
   "outputs": [
    {
     "data": {
      "text/plain": [
       "array([0.04710347, 0.15977013, 0.00904081, ..., 0.02018004, 0.00178687,\n",
       "       0.001251  ])"
      ]
     },
     "execution_count": 105,
     "metadata": {},
     "output_type": "execute_result"
    }
   ],
   "source": [
    "y.to_numpy()"
   ]
  },
  {
   "cell_type": "code",
   "execution_count": 106,
   "metadata": {},
   "outputs": [
    {
     "data": {
      "text/plain": [
       "<matplotlib.collections.PathCollection at 0x1b239984400>"
      ]
     },
     "execution_count": 106,
     "metadata": {},
     "output_type": "execute_result"
    },
    {
     "data": {
      "image/png": "[encoded data removed]",
      "text/plain": [
       "<Figure size 1080x720 with 1 Axes>"
      ]
     },
     "metadata": {
      "needs_background": "light"
     },
     "output_type": "display_data"
    }
   ],
   "source": [
    "plt.figure(figsize=(15, 10))\n",
    "y = solar_grouped_all['tile_count']/solar_grouped_all['land_area'].to_numpy()\n",
    "plt.scatter(solar_grouped_all['voting_2016_gop_percentage'].to_numpy(), y)"
   ]
  },
  {
   "cell_type": "code",
   "execution_count": 82,
   "metadata": {},
   "outputs": [],
   "source": [
    "deepsolar_counties = solar_grouped_all[['county', 'state', 'tile_count', 'solar_system_count', 'total_panel_area', 'land_area', 'total_area', 'ratio_panels_to_housing_units', 'population', 'population_density', 'race_asian_rate', 'race_black_africa_rate', 'race_indian_alaska_rate', 'race_islander_rate', 'race_white_rate', 'race_other_rate', 'race_two_more_rate', 'diversity','voting_2016_dem_percentage', 'voting_2016_gop_percentage', 'voting_2012_dem_percentage', 'voting_2012_gop_percentage']]\n",
    "deepsolar_counties.to_csv('./deepsolar_counties.csv')"
   ]
  }
 ],
 "metadata": {
  "kernelspec": {
   "display_name": "Python 3",
   "language": "python",
   "name": "python3"
  },
  "language_info": {
   "codemirror_mode": {
    "name": "ipython",
    "version": 3
   },
   "file_extension": ".py",
   "mimetype": "text/x-python",
   "name": "python",
   "nbconvert_exporter": "python",
   "pygments_lexer": "ipython3",
   "version": "3.8.3"
  }
 },
 "nbformat": 4,
 "nbformat_minor": 4
}
